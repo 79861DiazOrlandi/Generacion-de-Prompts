{
 "cells": [
  {
   "cell_type": "markdown",
   "id": "a8106884",
   "metadata": {},
   "source": [
    "# Fast Prompting en Acción: Desentrañando la Magia"
   ]
  },
  {
   "cell_type": "markdown",
   "id": "5e7ed601",
   "metadata": {},
   "source": [
    "AUTOR: Ignacio Diaz\n",
    "\n",
    "Fecha: 04/10/2024\n",
    "\n",
    "Comisión: 67105"
   ]
  },
  {
   "cell_type": "markdown",
   "id": "d47ea2f3-fafa-49fa-b90b-5dae9ce6dc07",
   "metadata": {},
   "source": [
    "1. Import openAI dependences (load with conda install openai)"
   ]
  },
  {
   "cell_type": "code",
   "execution_count": 26,
   "id": "c8f70a48",
   "metadata": {},
   "outputs": [],
   "source": [
    "#Import openAI dependences (module)\n",
    "import openai"
   ]
  },
  {
   "cell_type": "markdown",
   "id": "30c078ed",
   "metadata": {},
   "source": [
    "2. Use the API Key from openAI page"
   ]
  },
  {
   "cell_type": "code",
   "execution_count": 27,
   "id": "7a259d77",
   "metadata": {},
   "outputs": [],
   "source": [
    "#Add our API Key copied from openAI page\n",
    "openai.api_key = \"\""
   ]
  },
  {
   "cell_type": "markdown",
   "id": "75d86aa3",
   "metadata": {},
   "source": [
    "3. Make a request"
   ]
  },
  {
   "cell_type": "code",
   "execution_count": 28,
   "id": "403904ed",
   "metadata": {},
   "outputs": [],
   "source": [
    "#Make the context of our prompt envoirement\n",
    "context =\"Eres un sintetizador de información empresarial que recibe la misión y visión de una empresa. Tu tarea es resumir esta información de manera clara y concisa. Además, debes proponer una mascota y sus características para facilitar su representación en un modelo texto-imagen, que refleje esos valores, haciendo que sea memorable y alineada con la identidad de la empresa. La respueta no debe superar los 200 tokens.\""
   ]
  },
  {
   "cell_type": "markdown",
   "id": "44bc292e",
   "metadata": {},
   "source": [
    "4. Settings"
   ]
  },
  {
   "cell_type": "markdown",
   "id": "1a966dc5",
   "metadata": {},
   "source": [
    "**Misíon ingresada en la prueba:** Nuestra misión es proporcionar soluciones de software innovadoras que transformen la manera en que las empresas operan, optimizando procesos, mejorando la productividad y promoviendo la colaboración eficiente entre equipos. Nos comprometemos a desarrollar software escalable, seguro y adaptado a las necesidades de cada cliente, con un enfoque en la excelencia técnica y la mejora continua."
   ]
  },
  {
   "cell_type": "markdown",
   "id": "a3a3a5e1",
   "metadata": {},
   "source": [
    "**Visión ingresada en la prueba:** Ser reconocidos como líderes globales en el desarrollo de software empresarial para el año 2030, siendo una referencia en innovación, sostenibilidad tecnológica y satisfacción del cliente. Buscamos anticiparnos a las necesidades del mercado, creando productos que impulsen el crecimiento digital de las empresas de manera ética y responsable."
   ]
  },
  {
   "cell_type": "code",
   "execution_count": 29,
   "id": "737717af",
   "metadata": {},
   "outputs": [
    {
     "name": "stdout",
     "output_type": "stream",
     "text": [
      "¡Bienvenido!\n"
     ]
    },
    {
     "name": "stdin",
     "output_type": "stream",
     "text": [
      "Porfavor ingrese su nombre a continuación: Ignacio Diaz\n"
     ]
    },
    {
     "name": "stdout",
     "output_type": "stream",
     "text": [
      "¡Hola Ignacio Diaz!\n"
     ]
    },
    {
     "name": "stdin",
     "output_type": "stream",
     "text": [
      "Primero le solicitamos ingresar la misión de la empresa: Nuestra misión es proporcionar soluciones de software innovadoras que transformen la manera en que las empresas operan, optimizando procesos, mejorando la productividad y promoviendo la colaboración eficiente entre equipos. Nos comprometemos a desarrollar software escalable, seguro y adaptado a las necesidades de cada cliente, con un enfoque en la excelencia técnica y la mejora continua\n",
      "Perfecto! Por último, ingrese la visión de la empresa: Ser reconocidos como líderes globales en el desarrollo de software empresarial para el año 2030, siendo una referencia en innovación, sostenibilidad tecnológica y satisfacción del cliente. Buscamos anticiparnos a las necesidades del mercado, creando productos que impulsen el crecimiento digital de las empresas de manera ética y responsable.\n"
     ]
    },
    {
     "name": "stdout",
     "output_type": "stream",
     "text": [
      "\n",
      "\n",
      "assistant: Misión: Proporcionar soluciones de software innovadoras para transformar la operación empresarial, optimizando procesos, mejorando la productividad y fomentando la colaboración eficiente. Compromiso con software escalable, seguro y adaptado a cada cliente, con enfoque en excelencia técnica y mejora continua. Visión: Ser líderes globales en desarrollo de software empresarial para 2030, destacando en innovación, sostenibilidad tecnológica y satisfacción del cliente. Anticipación a las necesidades del mercado, creando productos que impulsen el crecimiento digital de las empresas de forma ética y responsable.\n",
      "\n",
      "Mascota propuesta: \"Innovio\", una mascota representada por un robot simpático y moderno, con múltiples brazos simbolizando la eficiencia y colaboración, además de un sombrero de pensamiento para reflejar la innovación constante. Los colores vibrantes sugieren dinamismo y creatividad, reforzando la identidad de la empresa tecnológica.\n"
     ]
    },
    {
     "name": "stdout",
     "output_type": "stream",
     "text": [
      "¡Hola Ignacio Diaz!\n"
     ]
    },
    {
     "name": "stdout",
     "output_type": "stream",
     "text": [
      "Primero le solicitamos ingresar la misión de la empresa: Mision\n",
      "Perfecto! Por último, ingrese la visión de la empresa: Vision\n"
     ]
    },
    {
     "name": "stdout",
     "output_type": "stream",
     "text": [
      "assistant: La empresa se dedica a proporcionar soluciones de software innovadoras y escalables para transformar la operación de las empresas, promoviendo la eficiencia y la colaboración. Su visión es ser líderes globales en software empresarial para 2030, destacándose por la innovación, sostenibilidad tecnológica y satisfacción del cliente. Se sugiere una mascota llamada \"Innobot\", representando la innovación y la excelencia técnica, con un diseño moderno y amigable.\n"
     ]
    }
   ],
   "source": [
    "# Ask follow-up questions\n",
    "print(\"¡Bienvenido!\")\n",
    "\n",
    "name = input(\"Porfavor ingrese su nombre a continuación:\")\n",
    "\n",
    "print(\"¡Hola \" + name + \"!\")\n",
    "\n",
    "mision = input(\"Primero le solicitamos ingresar la misión de la empresa:\")\n",
    "\n",
    "vision = input(\"Perfecto! Por último, ingrese la visión de la empresa:\")\n",
    "\n",
    "#prompt (text/user's question)\n",
    "prompt = f\"Misión= {mision}. Visión= {vision}\"\n",
    "\n",
    "# Make the request\n",
    "conversation = [\n",
    "    {\"role\": \"system\", \"content\": context},\n",
    "    {\"role\": \"user\", \"content\": prompt}\n",
    "]\n",
    "\n",
    "response = openai.ChatCompletion.create(\n",
    "    model='gpt-3.5-turbo',\n",
    "    messages=conversation,\n",
    "    max_tokens=1000\n",
    ")\n",
    "\n",
    "message = response.choices[0]['message']\n",
    "print(\"\\n\")\n",
    "print(\"{}: {}\".format(message['role'], message['content']))"
   ]
  },
  {
   "cell_type": "markdown",
   "id": "b8b2d145",
   "metadata": {},
   "source": [
    "5. Storage the response in any variable"
   ]
  },
  {
   "cell_type": "code",
   "execution_count": 30,
   "id": "9b1ce73f",
   "metadata": {},
   "outputs": [
    {
     "name": "stdout",
     "output_type": "stream",
     "text": [
      "Ignacio Diaz, a continuación le presentamos los resultados: \n",
      " Misión: Proporcionar soluciones de software innovadoras para transformar la operación empresarial, optimizando procesos, mejorando la productividad y fomentando la colaboración eficiente. Compromiso con software escalable, seguro y adaptado a cada cliente, con enfoque en excelencia técnica y mejora continua. Visión: Ser líderes globales en desarrollo de software empresarial para 2030, destacando en innovación, sostenibilidad tecnológica y satisfacción del cliente. Anticipación a las necesidades del mercado, creando productos que impulsen el crecimiento digital de las empresas de forma ética y responsable.\n",
      "\n",
      "Mascota propuesta: \"Innovio\", una mascota representada por un robot simpático y moderno, con múltiples brazos simbolizando la eficiencia y colaboración, además de un sombrero de pensamiento para reflejar la innovación constante. Los colores vibrantes sugieren dinamismo y creatividad, reforzando la identidad de la empresa tecnológica.\n"
     ]
    }
   ],
   "source": [
    "#Storage the response in a variable to use it\n",
    "response_AI = response['choices'][0]['message']['content'].strip()\n",
    "\n",
    "#Use the variable\n",
    "print(name +\", a continuación le presentamos los resultados: \\n\", response_AI)"
   ]
  },
  {
   "cell_type": "code",
   "execution_count": null,
   "id": "c3f70082-6893-4bf1-b58a-3b4807108755",
   "metadata": {},
   "outputs": [],
   "source": []
  }
 ],
 "metadata": {
  "kernelspec": {
   "display_name": "Python 3 (ipykernel)",
   "language": "python",
   "name": "python3"
  },
  "language_info": {
   "codemirror_mode": {
    "name": "ipython",
    "version": 3
   },
   "file_extension": ".py",
   "mimetype": "text/x-python",
   "name": "python",
   "nbconvert_exporter": "python",
   "pygments_lexer": "ipython3",
   "version": "3.10.14"
  }
 },
 "nbformat": 4,
 "nbformat_minor": 5
}
